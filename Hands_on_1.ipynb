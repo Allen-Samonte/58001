{
  "nbformat": 4,
  "nbformat_minor": 0,
  "metadata": {
    "colab": {
      "provenance": [],
      "authorship_tag": "ABX9TyO5xgLpxAHbNBaW35dGHTSW",
      "include_colab_link": true
    },
    "kernelspec": {
      "name": "python3",
      "display_name": "Python 3"
    },
    "language_info": {
      "name": "python"
    }
  },
  "cells": [
    {
      "cell_type": "markdown",
      "metadata": {
        "id": "view-in-github",
        "colab_type": "text"
      },
      "source": [
        "<a href=\"https://colab.research.google.com/github/Allen-Samonte/OOP-58001/blob/main/Hands_on_1.ipynb\" target=\"_parent\"><img src=\"https://colab.research.google.com/assets/colab-badge.svg\" alt=\"Open In Colab\"/></a>"
      ]
    },
    {
      "cell_type": "code",
      "source": [
        "class Person:\n",
        "    def __init__(self, name, prelim, midterm, final):\n",
        "        self.name = name\n",
        "        self.__prelim = prelim\n",
        "        self.__midterm = midterm\n",
        "        self.__final = final\n",
        "    def get_prelim_grade(self):\n",
        "        return self.__prelim\n",
        "    def get_midterm_grade(self):\n",
        "        return self.__midterm\n",
        "    def get_final_grade(self):\n",
        "        return self.__final\n",
        "    def grade_average(self):\n",
        "        return (self.__prelim + self.__midterm + self.__final) / 3\n",
        "\n",
        "std1 = Person(\"Student 1\", 65, 84, 91)\n",
        "std2 = Person(\"Student 2\", 70, 63, 80)\n",
        "std3 = Person(\"Student 3\", 98, 82, 75)\n",
        "\n",
        "print(\"Student 1\")\n",
        "print(\"Grades:\", std1.get_prelim_grade(), std1.get_midterm_grade(), std1.get_final_grade())\n",
        "print(\"Average grade:\", std1.grade_average())\n",
        "print(\"Student 2\")\n",
        "print(\"Grades:\", std2.get_prelim_grade(), std2.get_midterm_grade(), std2.get_final_grade())\n",
        "print(\"Average grade:\", std2.grade_average())\n",
        "print(\"Student 3\")\n",
        "print(\"Grades:\", std3.get_prelim_grade(), std3.get_midterm_grade(), std3.get_final_grade())\n",
        "print(\"Average grade:\", std3.grade_average())\n"
      ],
      "metadata": {
        "colab": {
          "base_uri": "https://localhost:8080/"
        },
        "id": "XfzMenhmaz1y",
        "outputId": "c9a5aa97-bdc3-4ea0-d858-21dd676f9199"
      },
      "execution_count": 26,
      "outputs": [
        {
          "output_type": "stream",
          "name": "stdout",
          "text": [
            "Student 1\n",
            "Grades: 65 84 91\n",
            "Average grade: 80.0\n",
            "Student 2\n",
            "Grades: 70 63 80\n",
            "Average grade: 71.0\n",
            "Student 3\n",
            "Grades: 98 82 75\n",
            "Average grade: 85.0\n"
          ]
        }
      ]
    }
  ]
}