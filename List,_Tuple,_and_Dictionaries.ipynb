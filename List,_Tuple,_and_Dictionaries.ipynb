{
  "nbformat": 4,
  "nbformat_minor": 0,
  "metadata": {
    "colab": {
      "provenance": [],
      "authorship_tag": "ABX9TyOmdiKOr2gUzR4PFB1KxGGw",
      "include_colab_link": true
    },
    "kernelspec": {
      "name": "python3",
      "display_name": "Python 3"
    },
    "language_info": {
      "name": "python"
    }
  },
  "cells": [
    {
      "cell_type": "markdown",
      "metadata": {
        "id": "view-in-github",
        "colab_type": "text"
      },
      "source": [
        "<a href=\"https://colab.research.google.com/github/Allen-Samonte/OOP-58001/blob/main/List%2C_Tuple%2C_and_Dictionaries.ipynb\" target=\"_parent\"><img src=\"https://colab.research.google.com/assets/colab-badge.svg\" alt=\"Open In Colab\"/></a>"
      ]
    },
    {
      "cell_type": "markdown",
      "source": [
        "Functions"
      ],
      "metadata": {
        "id": "EuXlQg7yLAPk"
      }
    },
    {
      "cell_type": "code",
      "execution_count": 11,
      "metadata": {
        "colab": {
          "base_uri": "https://localhost:8080/"
        },
        "id": "OKLR9EqjJXtp",
        "outputId": "562bae05-f17e-46f3-d007-0bc180da5c88"
      },
      "outputs": [
        {
          "output_type": "execute_result",
          "data": {
            "text/plain": [
              "50"
            ]
          },
          "metadata": {},
          "execution_count": 11
        }
      ],
      "source": [
        "class Shape:\n",
        "  def __init__(self,length,width):\n",
        "    self.length = length\n",
        "    self.width = width\n",
        "  def area(self):\n",
        "    return self.length*self.width\n",
        "rectangle = Shape(10 , 5)\n",
        "rectangle.area()"
      ]
    },
    {
      "cell_type": "code",
      "source": [
        "pow(10,2)\n",
        "array = [\"apple\", \"banana\", \"orange\"]\n",
        "array.insert(0, \"cherry\")\n",
        "print(array)"
      ],
      "metadata": {
        "colab": {
          "base_uri": "https://localhost:8080/"
        },
        "id": "7JnRARbRNV1r",
        "outputId": "28b638a3-a294-4817-9410-cbaa6e434a02"
      },
      "execution_count": 12,
      "outputs": [
        {
          "output_type": "stream",
          "name": "stdout",
          "text": [
            "['cherry', 'apple', 'banana', 'orange']\n"
          ]
        }
      ]
    },
    {
      "cell_type": "code",
      "source": [
        "#Create your own functio that will show your fullname and age\n",
        "#Use Person as class name\n",
        "\n",
        "class Persons:\n",
        "  def __init__(self, name, age):\n",
        "    self.name = name\n",
        "    self.age = age\n",
        "  def me(self):\n",
        "    return self.name, self.age\n",
        "print (\"Enter your name and age.\")\n",
        "print (\"Name:\")\n",
        "name = str(input())\n",
        "print (\"Age:\")\n",
        "age = int(input())\n",
        "print (\"Your name is\", name, \"and your age is\", age)"
      ],
      "metadata": {
        "colab": {
          "base_uri": "https://localhost:8080/"
        },
        "id": "lPh6qckqOmxU",
        "outputId": "f7889f10-48fd-45fa-c69d-915ca98052ed"
      },
      "execution_count": 24,
      "outputs": [
        {
          "output_type": "stream",
          "name": "stdout",
          "text": [
            "Enter your name and age.\n",
            "Name:\n",
            "Allen\n",
            "Age:\n",
            "19\n",
            "Your name is Allen and your age is 19 .\n"
          ]
        }
      ]
    },
    {
      "cell_type": "code",
      "source": [
        "pi = 3.14159\n",
        "varList = ['abc',1,'def',2]\n",
        "print(varList[0])\n",
        "\n",
        "varList.append('ghi')\n",
        "print(varList)\n",
        "varList.remove(2)\n",
        "print(varList)\n",
        "varList.insert(3,3)\n",
        "print(varList)"
      ],
      "metadata": {
        "colab": {
          "base_uri": "https://localhost:8080/"
        },
        "id": "QzLEAC1GVBf0",
        "outputId": "3e17b047-7797-45d5-ac73-9f5eb65bd7bd"
      },
      "execution_count": 27,
      "outputs": [
        {
          "output_type": "stream",
          "name": "stdout",
          "text": [
            "abc\n",
            "['abc', 1, 'def', 2, 'ghi']\n",
            "['abc', 1, 'def', 'ghi']\n",
            "['abc', 1, 'def', 3, 'ghi']\n"
          ]
        }
      ]
    },
    {
      "cell_type": "markdown",
      "source": [
        "Dictionaries"
      ],
      "metadata": {
        "id": "xcpV0b_kWDSR"
      }
    },
    {
      "cell_type": "code",
      "source": [
        "students = {\n",
        "    1:\"Angel\",\n",
        "    2:\"Shen\",\n",
        "    3:\"Ali\",\n",
        "    4:\"Eliza\"\n",
        "}\n",
        "print(students)"
      ],
      "metadata": {
        "colab": {
          "base_uri": "https://localhost:8080/"
        },
        "id": "D0LymiHWWJ4W",
        "outputId": "e5e9a6a4-8aa3-4b7c-dec5-1517e2fbdf0a"
      },
      "execution_count": 31,
      "outputs": [
        {
          "output_type": "stream",
          "name": "stdout",
          "text": [
            "{1: 'Angel', 2: 'Shen', 3: 'Ali', 4: 'Eliza'}\n"
          ]
        }
      ]
    }
  ]
}