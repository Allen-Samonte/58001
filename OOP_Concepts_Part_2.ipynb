{
  "nbformat": 4,
  "nbformat_minor": 0,
  "metadata": {
    "colab": {
      "provenance": [],
      "authorship_tag": "ABX9TyPSeNn4cljQHou1ce1L2hxo",
      "include_colab_link": true
    },
    "kernelspec": {
      "name": "python3",
      "display_name": "Python 3"
    },
    "language_info": {
      "name": "python"
    }
  },
  "cells": [
    {
      "cell_type": "markdown",
      "metadata": {
        "id": "view-in-github",
        "colab_type": "text"
      },
      "source": [
        "<a href=\"https://colab.research.google.com/github/Allen-Samonte/OOP-58001/blob/main/OOP_Concepts_Part_2.ipynb\" target=\"_parent\"><img src=\"https://colab.research.google.com/assets/colab-badge.svg\" alt=\"Open In Colab\"/></a>"
      ]
    },
    {
      "cell_type": "code",
      "execution_count": 13,
      "metadata": {
        "colab": {
          "base_uri": "https://localhost:8080/"
        },
        "id": "-NMcNaR5VQdK",
        "outputId": "e20eb026-01c3-4c67-865b-da1f34de6eb4"
      },
      "outputs": [
        {
          "output_type": "stream",
          "name": "stdout",
          "text": [
            "Griffon Vultureflies above clouds\n",
            "Common Craneflies above clouds\n",
            "Emuis the national bird of Philippines\n"
          ]
        }
      ],
      "source": [
        "class Birds:\n",
        "  def __init__(self, bird_name):\n",
        "    self.bird_name=bird_name\n",
        "  def flying_bird(self):\n",
        "    print(f\"{self.bird_name}flies above clouds\")\n",
        "  def non_flying_bird(self):\n",
        "    print(f\"{self.bird_name}is the national bird of Philippines\")\n",
        "\n",
        "vulture = Birds(\"Griffon Vulture\")\n",
        "crane = Birds(\"Common Crane\")\n",
        "emu = Birds(\"Emu\")\n",
        "\n",
        "vulture.flying_bird()\n",
        "crane.flying_bird()\n",
        "emu.non_flying_bird()"
      ]
    },
    {
      "cell_type": "code",
      "source": [
        "#Encapsuation\n",
        "\n",
        "class foo:\n",
        "  def __init__(self, a, b):\n",
        "    self.a=a\n",
        "    self.b=b\n",
        "  def add(self):\n",
        "    return self.a+self.b\n",
        "\n",
        "foo_object=foo(3,4)\n",
        "foo_object.add()\n",
        "foo_object.a=5\n",
        "foo_object.add()"
      ],
      "metadata": {
        "colab": {
          "base_uri": "https://localhost:8080/"
        },
        "id": "hJ6NTbdGZaNq",
        "outputId": "2f01742a-3a2c-4882-ec65-9ad51b939b4f"
      },
      "execution_count": 17,
      "outputs": [
        {
          "output_type": "execute_result",
          "data": {
            "text/plain": [
              "9"
            ]
          },
          "metadata": {},
          "execution_count": 17
        }
      ]
    },
    {
      "cell_type": "code",
      "source": [
        "class Counter:\n",
        "  def __init__(self):\n",
        "    self.__current = 0\n",
        "\n",
        "  def increment(self):\n",
        "    self.__current += 1\n",
        "\n",
        "  def value(self):\n",
        "    return self.__current\n",
        "\n",
        "  def reset(self):\n",
        "    self.__current = 0\n",
        "\n",
        "count = Counter()\n",
        "count.increment()\n",
        "count.value()\n",
        "count.reset()\n",
        "count.increment()\n",
        "count.value()"
      ],
      "metadata": {
        "colab": {
          "base_uri": "https://localhost:8080/"
        },
        "id": "Vig5zn3Mg5vh",
        "outputId": "35829c6c-930c-4be3-f38b-27be627350c8"
      },
      "execution_count": 30,
      "outputs": [
        {
          "output_type": "execute_result",
          "data": {
            "text/plain": [
              "1"
            ]
          },
          "metadata": {},
          "execution_count": 30
        }
      ]
    },
    {
      "cell_type": "code",
      "source": [
        "class Person:\n",
        "  def __init__(self, name, birthdate):\n",
        "    self.name = name\n",
        "    self.birthdate = birthdate\n",
        "  def display(self):\n",
        "    print(f\"My name is\", self.name)\n",
        "    print(f\"My birthdate is\", self.birthdate)\n",
        "class Student(Person):\n",
        "  pass\n",
        "class Teacher(Person):\n",
        "  pass\n",
        "\n",
        "student = Student(\"Allen\", \"August 6, 2003\")\n",
        "student.display()\n",
        "teacher = Teacher(\"Ana\", \"Feb 14, 1990\")\n",
        "teacher.display()"
      ],
      "metadata": {
        "colab": {
          "base_uri": "https://localhost:8080/"
        },
        "id": "cnwj8T9rhy-n",
        "outputId": "e2f0f32b-bf91-4104-9549-8ae1805958bb"
      },
      "execution_count": 33,
      "outputs": [
        {
          "output_type": "stream",
          "name": "stdout",
          "text": [
            "My name is Allen\n",
            "My birthdate is August 6, 2003\n",
            "My name is Ana\n",
            "My birthdate is Feb 14, 1990\n"
          ]
        }
      ]
    },
    {
      "cell_type": "code",
      "source": [
        "# create a class name Shapes (5 shapes)\n",
        "# attribute sides\n",
        "# create a function/method that displays the no. of sides of each shape\n",
        "# apply inheritance and encapsulation\n",
        "\n",
        "class Shapes:\n",
        "  def __init__(self, shape, sides):\n",
        "    self.__shape = shape\n",
        "    self.__sides = sides\n",
        "  def display (self):\n",
        "    print(f\"Shape:\", self.__shape)\n",
        "    print(f\"No. of Sides:\", self.__sides)\n",
        "class Square(Shapes):\n",
        "  pass\n",
        "class Rectangle(Shapes):\n",
        "  pass\n",
        "class Triangle(Shapes):\n",
        "  pass\n",
        "class Pentagon(Shapes):\n",
        "  pass \n",
        "class Hexagon(Shapes):\n",
        "  pass\n",
        "\n",
        "square = Square(\"Square\", 4)\n",
        "square.display()\n",
        "rectangle = Rectangle(\"Rectangle\", 4)\n",
        "rectangle.display()\n",
        "triangle = Triangle(\"Triangle\", 3)\n",
        "triangle.display()\n",
        "pentagon = Pentagon(\"Pentagon\", 5)\n",
        "pentagon.display()\n",
        "hexagon = Hexagon(\"Hexagon\", 6)\n",
        "hexagon.display()"
      ],
      "metadata": {
        "colab": {
          "base_uri": "https://localhost:8080/"
        },
        "id": "v3xh6NY6jXbe",
        "outputId": "71ac6ed6-466d-48e8-f1c7-8129237db6b8"
      },
      "execution_count": 47,
      "outputs": [
        {
          "output_type": "stream",
          "name": "stdout",
          "text": [
            "Shape: Square\n",
            "No. of Sides: 4\n",
            "Shape: Rectangle\n",
            "No. of Sides: 4\n",
            "Shape: Triangle\n",
            "No. of Sides: 3\n",
            "Shape: Pentagon\n",
            "No. of Sides: 5\n",
            "Shape: Hexagon\n",
            "No. of Sides: 6\n"
          ]
        }
      ]
    }
  ]
}