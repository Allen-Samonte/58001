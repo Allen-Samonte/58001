{
  "nbformat": 4,
  "nbformat_minor": 0,
  "metadata": {
    "colab": {
      "provenance": [],
      "authorship_tag": "ABX9TyO9YBWwL9rOQdG68Jro+LGA",
      "include_colab_link": true
    },
    "kernelspec": {
      "name": "python3",
      "display_name": "Python 3"
    },
    "language_info": {
      "name": "python"
    }
  },
  "cells": [
    {
      "cell_type": "markdown",
      "metadata": {
        "id": "view-in-github",
        "colab_type": "text"
      },
      "source": [
        "<a href=\"https://colab.research.google.com/github/Allen-Samonte/OOP-58001/blob/main/Laboratory_No_2.ipynb\" target=\"_parent\"><img src=\"https://colab.research.google.com/assets/colab-badge.svg\" alt=\"Open In Colab\"/></a>"
      ]
    },
    {
      "cell_type": "code",
      "execution_count": 12,
      "metadata": {
        "id": "naDfbBhTE2PX",
        "colab": {
          "base_uri": "https://localhost:8080/"
        },
        "outputId": "32f549f5-4c29-47ae-a3d1-af8f9f76bfca"
      },
      "outputs": [
        {
          "output_type": "stream",
          "name": "stdout",
          "text": [
            "Please enter the Radius of the circle: 10.5\n",
            "The Area of the circle is: 346.19\n",
            "The Perimeter of the circle is: 65.94\n"
          ]
        }
      ],
      "source": [
        "class Circle:\n",
        "  def __init__(self,radius):\n",
        "    self.radius = radius\n",
        "    import math\n",
        "    self.per = math.pi\n",
        "  \n",
        "  def area(self):\n",
        "    return round((3.14)*(self.radius)**2, 2)\n",
        "  \n",
        "  def perimeter(self):\n",
        "    return round(2*(3.14)*self.radius, 2)\n",
        "  \n",
        "  def display(self):\n",
        "    print(\"The Area of the circle is:\", self.area())\n",
        "    print(\"The Perimeter of the circle is:\", self.perimeter())\n",
        "  \n",
        "circle = Circle(float(input(\"Please enter the Radius of the circle: \")))\n",
        "circle.display()"
      ]
    }
  ]
}